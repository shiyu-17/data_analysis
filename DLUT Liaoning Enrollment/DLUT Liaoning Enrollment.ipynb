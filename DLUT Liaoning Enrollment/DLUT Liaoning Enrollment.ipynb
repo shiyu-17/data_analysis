{
 "cells": [
  {
   "cell_type": "code",
   "execution_count": 2,
   "metadata": {},
   "outputs": [],
   "source": [
    "import numpy as np\n",
    "import pandas as pd\n",
    "import matplotlib.pyplot as plt\n",
    "import seaborn as sns"
   ]
  },
  {
   "cell_type": "code",
   "execution_count": 3,
   "metadata": {},
   "outputs": [],
   "source": [
    "data = pd.read_csv('test2.csv',encoding='utf-8')"
   ]
  },
  {
   "cell_type": "code",
   "execution_count": 4,
   "metadata": {},
   "outputs": [
    {
     "name": "stdout",
     "output_type": "stream",
     "text": [
      "       年份  科目                                                 专业 最低分数  最低位次\n",
      "0    2022  物理                        计算机科学与技术（国家基础学科拔尖学生培养计划基地班）  642  1986\n",
      "1    2022  物理  电子信息类（创新班）（电气工程及其自动化、自动化、电子信息工程、计算机科学与技术、生物医学工...  640  2217\n",
      "2    2022  物理                               工程力学（钱令希力学创新班、拔尖计划班）  636  2677\n",
      "3    2022  物理                                   机械设计制造及其自动化（创新班）  634  2918\n",
      "4    2022  物理  电子信息类（电信、自动化与计算机新工科实验班）（电气工程及其自动化、自动化、电子信息工程、电...  630  3452\n",
      "..    ...  ..                                                ...  ...   ...\n",
      "213  2018  文科                                             公共事业管理  601  1281\n",
      "214  2018  文科                                         英语（含英语、翻译）  599  1430\n",
      "215  2018  文科                                                 日语  599  1430\n",
      "216  2018  文科                                                 哲学  598  1490\n",
      "217  2018  文科                                                 俄语  598  1490\n",
      "\n",
      "[218 rows x 5 columns]\n"
     ]
    }
   ],
   "source": [
    "print(data)"
   ]
  },
  {
   "cell_type": "code",
   "execution_count": 5,
   "metadata": {},
   "outputs": [],
   "source": [
    "data = data.drop_duplicates(subset=['最低位次'],keep=False,inplace=False)"
   ]
  },
  {
   "cell_type": "code",
   "execution_count": 6,
   "metadata": {},
   "outputs": [
    {
     "name": "stdout",
     "output_type": "stream",
     "text": [
      "       年份  科目                                                 专业 最低分数   最低位次\n",
      "0    2022  物理                        计算机科学与技术（国家基础学科拔尖学生培养计划基地班）  642   1986\n",
      "1    2022  物理  电子信息类（创新班）（电气工程及其自动化、自动化、电子信息工程、计算机科学与技术、生物医学工...  640   2217\n",
      "2    2022  物理                               工程力学（钱令希力学创新班、拔尖计划班）  636   2677\n",
      "3    2022  物理                                   机械设计制造及其自动化（创新班）  634   2918\n",
      "4    2022  物理  电子信息类（电信、自动化与计算机新工科实验班）（电气工程及其自动化、自动化、电子信息工程、电...  630   3452\n",
      "..    ...  ..                                                ...  ...    ...\n",
      "209  2018  理科                                  力学类（工程力学）（中外合作办学）  606  10320\n",
      "210  2018  理科                           计算机类（软件工程、数字媒体技术）（软件类专业）  603  11117\n",
      "211  2018  理科                                物理学类（应用物理学）（中外合作办学）  602  11372\n",
      "212  2018  文科                                新闻传播学类（汉语言文学、广播电视学）  602   1220\n",
      "213  2018  文科                                             公共事业管理  601   1281\n",
      "\n",
      "[84 rows x 5 columns]\n"
     ]
    }
   ],
   "source": [
    "print(data)"
   ]
  },
  {
   "cell_type": "code",
   "execution_count": 7,
   "metadata": {},
   "outputs": [],
   "source": [
    "data_sub_mean = data.groupby('专业')['最低分数'].count()"
   ]
  },
  {
   "cell_type": "code",
   "execution_count": 8,
   "metadata": {},
   "outputs": [
    {
     "name": "stdout",
     "output_type": "stream",
     "text": [
      "专业\n",
      "俄语                              2\n",
      "信息管理与信息系统                       1\n",
      "光电信息科学与工程（光电信息科学与工程、测控技术与仪器）    1\n",
      "公共事业管理                          2\n",
      "力学类（工程力学）（中外合作办学）               1\n",
      "                               ..\n",
      "车辆工程（英语强化）                      1\n",
      "车辆工程（英语强化）（非英语语种考生慎重报考）         1\n",
      "软件工程（软件工程、网络工程）                 1\n",
      "过程装备与控制工程                       2\n",
      "过程装备与控制工程（盘锦校区）（中外合作）           1\n",
      "Name: 最低分数, Length: 69, dtype: int64\n"
     ]
    }
   ],
   "source": [
    "print(data_sub_mean)"
   ]
  }
 ],
 "metadata": {
  "kernelspec": {
   "display_name": "Python 3",
   "language": "python",
   "name": "python3"
  },
  "language_info": {
   "codemirror_mode": {
    "name": "ipython",
    "version": 3
   },
   "file_extension": ".py",
   "mimetype": "text/x-python",
   "name": "python",
   "nbconvert_exporter": "python",
   "pygments_lexer": "ipython3",
   "version": "3.10.1"
  },
  "orig_nbformat": 4
 },
 "nbformat": 4,
 "nbformat_minor": 2
}
